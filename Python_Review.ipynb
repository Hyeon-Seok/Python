{
  "nbformat": 4,
  "nbformat_minor": 0,
  "metadata": {
    "colab": {
      "name": "1_Python_review.ipynb",
      "provenance": [],
      "collapsed_sections": [],
      "toc_visible": true,
      "include_colab_link": true
    },
    "kernelspec": {
      "name": "python3",
      "display_name": "Python 3"
    }
  },
  "cells": [
    {
      "cell_type": "markdown",
      "metadata": {
        "id": "view-in-github",
        "colab_type": "text"
      },
      "source": [
        "<a href=\"https://colab.research.google.com/github/Hyeon-Seok/Python/blob/master/Python_Review.ipynb\" target=\"_parent\"><img src=\"https://colab.research.google.com/assets/colab-badge.svg\" alt=\"Open In Colab\"/></a>"
      ]
    },
    {
      "cell_type": "markdown",
      "metadata": {
        "id": "qC3yIZKxM7n-",
        "colab_type": "text"
      },
      "source": [
        "# Google Colab 사용 방법"
      ]
    },
    {
      "cell_type": "markdown",
      "metadata": {
        "id": "DPriFcsUM5ui",
        "colab_type": "text"
      },
      "source": [
        "- 방향키 ↑↓: 셀 간 이동\n",
        "- Enter: 편집모드\n",
        "- Ctrl + Enter: 셀 실행\n",
        "- Shift + Enter: 셀 실행 + 다음 셀 선택\n",
        "\n",
        "---\n",
        "\n",
        "- Ctrl +M D: 셀 삭제\n",
        "- Ctrl + M K: 셀 위로 이동\n",
        "- Ctrl + M J: 셀 아래로 이동"
      ]
    },
    {
      "cell_type": "markdown",
      "metadata": {
        "id": "5n4k9p5gdkXs",
        "colab_type": "text"
      },
      "source": [
        "# 기본 문법 문제\n",
        "\n",
        "**###** 사이에 정답 코드를 작성해 주세요.\n",
        "\n",
        "**###** 바깥 부분은 수정 할 수 없습니다."
      ]
    },
    {
      "cell_type": "markdown",
      "metadata": {
        "id": "m0zS4V98dnm6",
        "colab_type": "text"
      },
      "source": [
        "## 1. 문자열의 길이를 구하세요 (예제)"
      ]
    },
    {
      "cell_type": "code",
      "metadata": {
        "id": "qb_f4iaJdl9B",
        "colab_type": "code",
        "outputId": "37e9c6a2-563e-4d82-c697-05ddc1954b57",
        "colab": {
          "base_uri": "https://localhost:8080/",
          "height": 34
        }
      },
      "source": [
        "random_string = \"dk2jd923i1jdk2jd93jfd92jd918943jfd8923\"\n",
        "\n",
        "###\n",
        "len_of_random_string = \n",
        "###\n",
        "print(len_of_random_string)"
      ],
      "execution_count": 0,
      "outputs": [
        {
          "output_type": "stream",
          "text": [
            "38\n"
          ],
          "name": "stdout"
        }
      ]
    },
    {
      "cell_type": "markdown",
      "metadata": {
        "id": "aTdaaBebeGWW",
        "colab_type": "text"
      },
      "source": [
        "## 2. *기호 20개를 출력하세요"
      ]
    },
    {
      "cell_type": "code",
      "metadata": {
        "id": "ogtnTgfUeCjn",
        "colab_type": "code",
        "outputId": "b400c65e-9b70-4a6d-fa91-f624c73ae9f9",
        "colab": {
          "base_uri": "https://localhost:8080/",
          "height": 34
        }
      },
      "source": [
        "###\n",
        "result = \n",
        "###\n",
        "print(result)"
      ],
      "execution_count": 0,
      "outputs": [
        {
          "output_type": "stream",
          "text": [
            "********************\n"
          ],
          "name": "stdout"
        }
      ]
    },
    {
      "cell_type": "markdown",
      "metadata": {
        "id": "Nl629R6jeWRa",
        "colab_type": "text"
      },
      "source": [
        "## 3. 문자열 \"30\"이 저장된 변수 a를 정수형, 실수형으로 변환 후 type을 출력하세요"
      ]
    },
    {
      "cell_type": "code",
      "metadata": {
        "id": "XDnqPpMhePSM",
        "colab_type": "code",
        "outputId": "617c39db-74d6-4e91-a524-3da7f76309fa",
        "colab": {
          "base_uri": "https://localhost:8080/",
          "height": 68
        }
      },
      "source": [
        "a = \"30\"\n",
        "###\n",
        "int_a = \n",
        "float_a = \n",
        "###\n",
        "print(type(a))\n",
        "print(type(int_a))\n",
        "print(type(float_a))"
      ],
      "execution_count": 0,
      "outputs": [
        {
          "output_type": "stream",
          "text": [
            "<class 'str'>\n",
            "<class 'int'>\n",
            "<class 'float'>\n"
          ],
          "name": "stdout"
        }
      ]
    },
    {
      "cell_type": "markdown",
      "metadata": {
        "id": "qmBMyo7QgZ0T",
        "colab_type": "text"
      },
      "source": [
        "## 4. 자동차 번호판이 다음과 같을 때 마지막 숫자 4자리만 출력하세요\n",
        "- 리스트 슬라이싱을 활용하세요"
      ]
    },
    {
      "cell_type": "code",
      "metadata": {
        "id": "bQvF1TviffD0",
        "colab_type": "code",
        "outputId": "a857ae66-41d0-4d4e-ebb8-4ce0403c4d1a",
        "colab": {
          "base_uri": "https://localhost:8080/",
          "height": 34
        }
      },
      "source": [
        "license_plate = \"24가 2210\"\n",
        "###\n",
        "last_4_digit = \n",
        "###\n",
        "print(last_4_digit)"
      ],
      "execution_count": 0,
      "outputs": [
        {
          "output_type": "stream",
          "text": [
            "2210\n"
          ],
          "name": "stdout"
        }
      ]
    },
    {
      "cell_type": "markdown",
      "metadata": {
        "id": "u9MbWDhng3dg",
        "colab_type": "text"
      },
      "source": [
        "## 5. 다음 문자열에서 '-'를 제거 후 출력하세요 : \"010-1234-4567\"\n",
        "- replace를 활용하세요"
      ]
    },
    {
      "cell_type": "code",
      "metadata": {
        "id": "-c_kSB9PgqpC",
        "colab_type": "code",
        "outputId": "1528221f-5285-4fc0-a327-c6f890f8a7da",
        "colab": {
          "base_uri": "https://localhost:8080/",
          "height": 34
        }
      },
      "source": [
        "num = \"010-1234-4567\"\n",
        "###\n",
        "replaced_num = \n",
        "###\n",
        "print(replaced_num)"
      ],
      "execution_count": 0,
      "outputs": [
        {
          "output_type": "stream",
          "text": [
            "01012344567\n"
          ],
          "name": "stdout"
        }
      ]
    },
    {
      "cell_type": "markdown",
      "metadata": {
        "id": "lK9ZIWdKhV1o",
        "colab_type": "text"
      },
      "source": [
        "## 6. 다음 문자열을 대문자, 소문자로 각각 출력하세요 : \"PyTHon\"\n",
        "- 문자열 함수 upper(), lower()를 이용하세요"
      ]
    },
    {
      "cell_type": "code",
      "metadata": {
        "id": "Y6CYZT3Ygud9",
        "colab_type": "code",
        "outputId": "04976a75-112b-4948-fc95-fae078b9e9c7",
        "colab": {
          "base_uri": "https://localhost:8080/",
          "height": 51
        }
      },
      "source": [
        "a = \"PyTHon\"\n",
        "###\n",
        "a_upper = \n",
        "a_lower = \n",
        "###\n",
        "print(a_upper)\n",
        "print(a_lower)"
      ],
      "execution_count": 0,
      "outputs": [
        {
          "output_type": "stream",
          "text": [
            "PYTHON\n",
            "python\n"
          ],
          "name": "stdout"
        }
      ]
    },
    {
      "cell_type": "markdown",
      "metadata": {
        "id": "Z0TZsJOfiRcw",
        "colab_type": "text"
      },
      "source": [
        "## 7. 주어진 리스트에서 \"Apple\" 항목만 삭제하세요 : [\"Banana\", \"Apple\", \"Orange\"]\n",
        "- 리스트 함수 remove()를 이용하세요"
      ]
    },
    {
      "cell_type": "code",
      "metadata": {
        "id": "fiPxnFe9g9Vs",
        "colab_type": "code",
        "outputId": "0ec3fdf9-db31-422a-9d4c-bd7a24146157",
        "colab": {
          "base_uri": "https://localhost:8080/",
          "height": 34
        }
      },
      "source": [
        "a_list = [\"Banana\", \"Apple\", \"Orange\"]\n",
        "###\n",
        "\n",
        "###\n",
        "print(a_list)"
      ],
      "execution_count": 0,
      "outputs": [
        {
          "output_type": "stream",
          "text": [
            "['Banana', 'Orange']\n"
          ],
          "name": "stdout"
        }
      ]
    },
    {
      "cell_type": "markdown",
      "metadata": {
        "id": "gQ5hPOTIih96",
        "colab_type": "text"
      },
      "source": [
        "## 8. \"슈퍼맨\"을 \"닥터 스트레인지\"와 \"스플릿\" 사이에 추가하세요\n",
        "- movie_rank = ['닥터 스트레인지', '스플릿', '럭키', '배트맨']"
      ]
    },
    {
      "cell_type": "code",
      "metadata": {
        "id": "GgcOTUAjiZeg",
        "colab_type": "code",
        "outputId": "5eca6206-2b77-4be6-d49c-01dea1893140",
        "colab": {
          "base_uri": "https://localhost:8080/",
          "height": 51
        }
      },
      "source": [
        "movie_rank = ['닥터 스트레인지', '스플릿', '럭키', '배트맨']\n",
        "print(\"전: \" + str(movie_rank))\n",
        "###\n",
        "\n",
        "###\n",
        "print(\"후: \" + str(movie_rank))"
      ],
      "execution_count": 0,
      "outputs": [
        {
          "output_type": "stream",
          "text": [
            "전: ['닥터 스트레인지', '스플릿', '럭키', '배트맨']\n",
            "후: ['닥터 스트레인지', '슈퍼맨', '스플릿', '럭키', '배트맨']\n"
          ],
          "name": "stdout"
        }
      ]
    },
    {
      "cell_type": "markdown",
      "metadata": {
        "id": "JUEJzJh9i_Fx",
        "colab_type": "text"
      },
      "source": [
        "## 9. 주어진 리스트의 합을 출력하세요"
      ]
    },
    {
      "cell_type": "code",
      "metadata": {
        "id": "lkZmA-4Liozp",
        "colab_type": "code",
        "outputId": "c61f94eb-a2b5-414b-fbe4-183b3905aca7",
        "colab": {
          "base_uri": "https://localhost:8080/",
          "height": 34
        }
      },
      "source": [
        "nums = [1, 2, 3, 4, 5]\n",
        "###\n",
        "sum_result = \n",
        "###\n",
        "print(sum_result)"
      ],
      "execution_count": 0,
      "outputs": [
        {
          "output_type": "stream",
          "text": [
            "15\n"
          ],
          "name": "stdout"
        }
      ]
    },
    {
      "cell_type": "markdown",
      "metadata": {
        "id": "izJZBEQMjUZj",
        "colab_type": "text"
      },
      "source": [
        "## 10. 다음 항목을 딕셔너리(dict)로 선언해보세요\n",
        "<성인 - 100000 , 청소년 - 70000 , 아동 - 30000>"
      ]
    },
    {
      "cell_type": "code",
      "metadata": {
        "id": "h54mg1hyjLjG",
        "colab_type": "code",
        "outputId": "4ffe111f-4fd2-4059-d176-e00ffb3a3f06",
        "colab": {
          "base_uri": "https://localhost:8080/",
          "height": 34
        }
      },
      "source": [
        "###\n",
        "dic = \n",
        "###\n",
        "print(dic)"
      ],
      "execution_count": 0,
      "outputs": [
        {
          "output_type": "stream",
          "text": [
            "{'성인': 100000, '청소년': 70000, '아동': 30000}\n"
          ],
          "name": "stdout"
        }
      ]
    },
    {
      "cell_type": "code",
      "metadata": {
        "id": "uf9LprpYjhU2",
        "colab_type": "code",
        "colab": {}
      },
      "source": [
        ""
      ],
      "execution_count": 0,
      "outputs": []
    },
    {
      "cell_type": "markdown",
      "metadata": {
        "id": "h4hM64XHjo3n",
        "colab_type": "text"
      },
      "source": [
        "# 제어문 문제"
      ]
    },
    {
      "cell_type": "markdown",
      "metadata": {
        "id": "h-EVVHgNj9gO",
        "colab_type": "text"
      },
      "source": [
        "## 조건문: 다음 점수 구간에 맞게 학점을 출력하세요\n",
        "\n",
        "```\n",
        "81 ~ 100 : A학점\n",
        "61 ~ 80 :  B학점\n",
        "41 ~ 60 :  C학점\n",
        "21 ~ 40 :  D학점\n",
        "0 ~ 20 :  E학점\n",
        "```"
      ]
    },
    {
      "cell_type": "code",
      "metadata": {
        "id": "UORqskuZjpo4",
        "colab_type": "code",
        "outputId": "50a39458-9a1b-40b8-b03f-305f3f95e814",
        "colab": {
          "base_uri": "https://localhost:8080/",
          "height": 34
        }
      },
      "source": [
        "score = 23\n",
        "\n",
        "###\n",
        "if :\n",
        "    credit = \"A학점\"\n",
        "elif :\n",
        "    credit = \"B학점\"\n",
        "elif :\n",
        "    credit = \"C학점\"\n",
        "elif :\n",
        "    credit = \"D학점\"\n",
        "else:\n",
        "    credit = \"E학점\"\n",
        "###\n",
        "\n",
        "print(credit)"
      ],
      "execution_count": 0,
      "outputs": [
        {
          "output_type": "stream",
          "text": [
            "D학점\n"
          ],
          "name": "stdout"
        }
      ]
    },
    {
      "cell_type": "markdown",
      "metadata": {
        "id": "axIr5_C_ktlX",
        "colab_type": "text"
      },
      "source": [
        "## 반복문: 리스트 항목 중에서 5글자 이상의 단어만 출력하세요"
      ]
    },
    {
      "cell_type": "code",
      "metadata": {
        "id": "CKWCsMTDkQau",
        "colab_type": "code",
        "outputId": "7e075101-d7d6-4d9c-8d3e-443a2c071da7",
        "colab": {
          "base_uri": "https://localhost:8080/",
          "height": 51
        }
      },
      "source": [
        "word_list = [\"nice\", \"study\", \"python\", \"anaconda\", \"!\"]\n",
        "\n",
        "###\n",
        "\n",
        "\n",
        "\n",
        "###"
      ],
      "execution_count": 0,
      "outputs": [
        {
          "output_type": "stream",
          "text": [
            "python\n",
            "anaconda\n"
          ],
          "name": "stdout"
        }
      ]
    },
    {
      "cell_type": "markdown",
      "metadata": {
        "id": "zqevIdz8bk0_",
        "colab_type": "text"
      },
      "source": [
        "## 반복문: 반복문을 활용해 아래 형태로 출력해주세요\n",
        "\n",
        "1<br>\n",
        "22<br>\n",
        "333<br>\n",
        "4444<br>\n",
        "55555<br>\n",
        "666666"
      ]
    },
    {
      "cell_type": "code",
      "metadata": {
        "id": "tJLU9VGkbjka",
        "colab_type": "code",
        "outputId": "da4a2e42-82f8-4a09-cd52-60a7d0d2cc63",
        "colab": {
          "base_uri": "https://localhost:8080/",
          "height": 119
        }
      },
      "source": [
        "for i in range(1,7):\n",
        "###\n",
        "    print()\n",
        "###"
      ],
      "execution_count": 0,
      "outputs": [
        {
          "output_type": "stream",
          "text": [
            "1\n",
            "22\n",
            "333\n",
            "4444\n",
            "55555\n",
            "666666\n"
          ],
          "name": "stdout"
        }
      ]
    }
  ]
}